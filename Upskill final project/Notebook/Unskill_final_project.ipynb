{
 "cells": [
  {
   "cell_type": "code",
   "execution_count": 1,
   "metadata": {},
   "outputs": [],
   "source": [
    "import pandas as pd \n",
    "import numpy as np"
   ]
  },
  {
   "cell_type": "code",
   "execution_count": 2,
   "metadata": {},
   "outputs": [],
   "source": [
    "with open('../Data/netsparker.txt', 'r') as file:\n",
    "    netsparker  = file.readlines()\n",
    "    \n",
    "with open('../Data/w3af.txt', 'r') as file:\n",
    "    w3af = file.readlines()\n",
    "    \n",
    "with open('../Data/acunetix.txt', 'r') as file:\n",
    "    acunetix  = file.readlines()"
   ]
  },
  {
   "cell_type": "code",
   "execution_count": 3,
   "metadata": {},
   "outputs": [],
   "source": [
    "sqli_list = ['select','instert','update','delete','alter',\n",
    "             'update','--','#','exec','hex','utf-8',\"\\'\"]\n",
    "\n",
    "xss_list=['script','onload','onerror','img','body','iframe', \n",
    "          'input','link','table','div','object','form']\n",
    "\n",
    "xss_sqli_patterns= xss_list+sqli_list"
   ]
  },
  {
   "cell_type": "markdown",
   "metadata": {},
   "source": [
    "### Creating a csv data "
   ]
  },
  {
   "cell_type": "code",
   "execution_count": null,
   "metadata": {},
   "outputs": [],
   "source": [
    "df = pd.DataFrame([[x.strip('\"') for x in y.split()] for y in netsparker])\n",
    "df.replace([None,'-'],np.nan, inplace=True)\n",
    "df.dropna(how='all',axis=1, inplace = True)\n",
    "df.head()"
   ]
  },
  {
   "cell_type": "code",
   "execution_count": null,
   "metadata": {},
   "outputs": [],
   "source": [
    "for x in df.columns:\n",
    "    df['ip']=df[0]\n",
    "    df['timestamp']=df[3]+' '+df[4]\n",
    "    df['method']=df[5]\n",
    "    df['requesta_url']=df[6]\n",
    "    df['protocal']=df[7]\n",
    "    df['statues']=df[8]\n",
    "    df['byte_size']=df[9]\n",
    "    df['redirect_url']=df[10]\n",
    "    df['user_info']=df[11]+' '+df[12]+' '+df[13]+' '+df[14]+' '+df[15]+' '+df[16]+' '+df[17]\\\n",
    "                        +' '+df[17]+\" \"+df[18]+' '+df[19]+' '+df[20]+' '+df[21]\n",
    "df.drop([0,3,4,5,6,7,8,9,10,11,12,13,14,15,16,17,18,19,20,21], axis=1,inplace=True)"
   ]
  },
  {
   "cell_type": "code",
   "execution_count": null,
   "metadata": {},
   "outputs": [],
   "source": [
    "df.head()"
   ]
  },
  {
   "cell_type": "code",
   "execution_count": null,
   "metadata": {},
   "outputs": [],
   "source": [
    "for x in df[df['user_info'].isnull()].index:\n",
    "        df.iloc[x].user_info=df.iloc[x][22]+\" \"+df.iloc[x][23]+\" \"+df.iloc[x][24]+\" \"+df.iloc[x][25]+' '+\\\n",
    "        df.iloc[x][26]+' '+df.iloc[x][27]+' '+df.iloc[x][28]+' '+df.iloc[x][29]+' '+df.iloc[x][30]+\" \"+df.iloc[x][31]\n",
    "df.drop([22,23,24,25,26,27,28,29,30,31], axis=1, inplace=True)\n"
   ]
  },
  {
   "cell_type": "code",
   "execution_count": null,
   "metadata": {},
   "outputs": [],
   "source": [
    "# df[22]"
   ]
  },
  {
   "cell_type": "code",
   "execution_count": null,
   "metadata": {},
   "outputs": [],
   "source": [
    "xss_sqli_attacks= []\n",
    "attackers_ip=[]\n",
    "for data in [acunetix, w3af, netsparker]:\n",
    "    for y in data:\n",
    "        for x in xss_sqli_patterns:\n",
    "            if x in y:\n",
    "                if y not in xss_sqli_attacks:\n",
    "                    xss_sqli_attacks.append(y)\n",
    "                    attackers_ip.append(y[1:14])"
   ]
  },
  {
   "cell_type": "code",
   "execution_count": null,
   "metadata": {},
   "outputs": [],
   "source": [
    "type2 = []\n",
    "for data in [acunetix, w3af, netsparker]:\n",
    "    for z in data:\n",
    "        if z not in xss_sqli_attacks and z not in type2:\n",
    "            type2.append(z)\n",
    "\n",
    "print(len(xss_sqli_attacks))\n",
    "\n",
    "len(type2)"
   ]
  },
  {
   "cell_type": "code",
   "execution_count": null,
   "metadata": {},
   "outputs": [],
   "source": [
    "len(acunetix[4800].split('\"'))"
   ]
  },
  {
   "cell_type": "code",
   "execution_count": null,
   "metadata": {},
   "outputs": [],
   "source": [
    "df.head()"
   ]
  },
  {
   "cell_type": "code",
   "execution_count": null,
   "metadata": {},
   "outputs": [],
   "source": [
    "df[df.user_info==\"(Windows NT 6.3; WOW64) AppleWebKit/537.36 (KHTML, like Gecko) Chrome/41.0.2272.16 Safari/537.36\"]"
   ]
  },
  {
   "cell_type": "code",
   "execution_count": null,
   "metadata": {},
   "outputs": [],
   "source": [
    "df.shape"
   ]
  },
  {
   "cell_type": "code",
   "execution_count": null,
   "metadata": {},
   "outputs": [],
   "source": []
  }
 ],
 "metadata": {
  "kernelspec": {
   "display_name": "Python 3",
   "language": "python",
   "name": "python3"
  },
  "language_info": {
   "codemirror_mode": {
    "name": "ipython",
    "version": 3
   },
   "file_extension": ".py",
   "mimetype": "text/x-python",
   "name": "python",
   "nbconvert_exporter": "python",
   "pygments_lexer": "ipython3",
   "version": "3.8.3"
  }
 },
 "nbformat": 4,
 "nbformat_minor": 4
}
