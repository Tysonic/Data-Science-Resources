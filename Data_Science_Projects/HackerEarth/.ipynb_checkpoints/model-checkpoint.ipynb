{
 "cells": [
  {
   "cell_type": "code",
   "execution_count": 1,
   "metadata": {},
   "outputs": [],
   "source": [
    "import nltk\n",
    "import pandas as pd\n",
    "import PyPDF4\n",
    "import re\n",
    "import io\n",
    "import re\n",
    "from mosestokenizer import MosesTokenizer"
   ]
  },
  {
   "cell_type": "code",
   "execution_count": 2,
   "metadata": {},
   "outputs": [],
   "source": [
    "path_to_train = 'Data/training/Scripts_Philosophers Stone.pdf'\n",
    "path_to_test= 'Data/test/Scripts_Goblet of Fire.pdf'\n",
    "\n",
    "def pdf_reader(path_to_pdf):\n",
    "    data = PyPDF4.PdfFileReader(open(path_to_pdf, 'rb'))\n",
    "    text = ''\n",
    "    for x in range(data.numPages):\n",
    "        obj = data.getPage(x)\n",
    "        mydata = obj.extractText()\n",
    "        for line in io.StringIO(mydata):\n",
    "            text +=line.replace('\\n',' ')\n",
    "    return text\n",
    "train = pdf_reader(path_to_train)\n",
    "test = pdf_reader(path_to_test)"
   ]
  },
  {
   "cell_type": "markdown",
   "metadata": {},
   "source": [
    "## stopwords = nltk.corpus.stopwords.words('english')\n",
    "tokenizer=MosesTokenizer('en')\n",
    "\n",
    "word_frequencies = {}\n",
    "for word in tokenizer(train):\n",
    "    if word not in stopwords:\n",
    "        if word not in word_frequencies.keys():\n",
    "            word_frequencies[word] = 1\n",
    "        else:\n",
    "            word_frequencies[word] += 1"
   ]
  },
  {
   "cell_type": "code",
   "execution_count": 8,
   "metadata": {},
   "outputs": [],
   "source": [
    "sentence_scores = {}\n",
    "for sent in sentence_list:\n",
    "    for word in tokenizer(sent.lower()):\n",
    "        if word in word_frequencies.keys():\n",
    "            if len(sent.split(' ')) < 30:\n",
    "                if sent not in sentence_scores.keys():\n",
    "                    sentence_scores[sent] = word_frequencies[word]\n",
    "                else:\n",
    "                    sentence_scores[sent] += word_frequencies[word]"
   ]
  },
  {
   "cell_type": "code",
   "execution_count": 9,
   "metadata": {},
   "outputs": [
    {
     "name": "stdout",
     "output_type": "stream",
     "text": [
      ". -. Bloody hell. Come on. -Yeah. No. -No.\n"
     ]
    }
   ],
   "source": [
    "import heapq\n",
    "summary_sentences = heapq.nlargest(7, sentence_scores, key=sentence_scores.get)\n",
    "\n",
    "summary = ' '.join(summary_sentences)\n",
    "print(summary)\n",
    "with open('plot summary', 'w') as file:\n",
    "    file.writelines(summary)"
   ]
  },
  {
   "cell_type": "code",
   "execution_count": null,
   "metadata": {},
   "outputs": [],
   "source": []
  }
 ],
 "metadata": {
  "kernelspec": {
   "display_name": "Python 3",
   "language": "python",
   "name": "python3"
  },
  "language_info": {
   "codemirror_mode": {
    "name": "ipython",
    "version": 3
   },
   "file_extension": ".py",
   "mimetype": "text/x-python",
   "name": "python",
   "nbconvert_exporter": "python",
   "pygments_lexer": "ipython3",
   "version": "3.8.2"
  }
 },
 "nbformat": 4,
 "nbformat_minor": 4
}
