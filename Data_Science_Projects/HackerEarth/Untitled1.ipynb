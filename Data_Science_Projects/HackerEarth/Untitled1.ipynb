{
 "cells": [
  {
   "cell_type": "code",
   "execution_count": null,
   "metadata": {},
   "outputs": [],
   "source": [
    "# scraped_data = urllib.request.urlopen('https://en.wikipedia.org/wiki/Artificial_intelligence')\n",
    "# article = scraped_data.read()\n",
    "\n",
    "# parsed_article = bs.BeautifulSoup(article,'lxml')\n",
    "\n",
    "# paragraphs = parsed_article.find_all('p')\n",
    "\n",
    "# article_text = \"\"\n",
    "\n",
    "# for p in paragraphs:\n",
    "#     article_text += p.text\n",
    "# article_text"
   ]
  }
 ],
 "metadata": {
  "kernelspec": {
   "display_name": "Python 3",
   "language": "python",
   "name": "python3"
  },
  "language_info": {
   "codemirror_mode": {
    "name": "ipython",
    "version": 3
   },
   "file_extension": ".py",
   "mimetype": "text/x-python",
   "name": "python",
   "nbconvert_exporter": "python",
   "pygments_lexer": "ipython3",
   "version": "3.8.2"
  }
 },
 "nbformat": 4,
 "nbformat_minor": 4
}
