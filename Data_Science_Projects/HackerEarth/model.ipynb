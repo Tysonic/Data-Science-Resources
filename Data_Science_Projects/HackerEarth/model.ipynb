{
 "cells": [
  {
   "cell_type": "code",
   "execution_count": 49,
   "metadata": {},
   "outputs": [],
   "source": [
    "import nltk\n",
    "import pandas as pd\n",
    "import PyPDF4\n",
    "import re\n",
    "import io\n",
    "import re\n",
    "from mosestokenizer import MosesTokenizer"
   ]
  },
  {
   "cell_type": "code",
   "execution_count": 61,
   "metadata": {},
   "outputs": [],
   "source": [
    "path_to_train = 'Data/training/Scripts_Philosophers Stone.pdf'\n",
    "path_to_test= 'Data/test/Scripts_Goblet of Fire.pdf'\n",
    "\n",
    "def pdf_reader(path_to_pdf):\n",
    "    data = PyPDF4.PdfFileReader(open(path_to_pdf, 'rb'))\n",
    "    text = ''\n",
    "    for x in range(data.numPages):\n",
    "        obj = data.getPage(x)\n",
    "        mydata = obj.extractText()\n",
    "        for line in io.StringIO(mydata):\n",
    "            text +=line.replace('\\n',' ')\n",
    "    return text\n",
    "train = pdf_reader(path_to_train)\n",
    "test = pdf_reader(path_to_test)"
   ]
  },
  {
   "cell_type": "code",
   "execution_count": 62,
   "metadata": {},
   "outputs": [],
   "source": [
    "sentence_list = nltk.sent_tokenize(test)"
   ]
  },
  {
   "cell_type": "code",
   "execution_count": 63,
   "metadata": {},
   "outputs": [],
   "source": [
    "stopwords = nltk.corpus.stopwords.words('english')\n",
    "tokenizer=MosesTokenizer('en')\n",
    "\n",
    "word_frequencies = {}\n",
    "for word in tokenizer(test):\n",
    "    if word not in stopwords:\n",
    "        if word not in word_frequencies.keys():\n",
    "            word_frequencies[word] = 1\n",
    "        else:\n",
    "            word_frequencies[word] += 1"
   ]
  },
  {
   "cell_type": "code",
   "execution_count": 64,
   "metadata": {},
   "outputs": [],
   "source": [
    "sentence_scores = {}\n",
    "for sent in sentence_list:\n",
    "    for word in tokenizer(sent.lower()):\n",
    "        if word in word_frequencies.keys():\n",
    "            if len(sent.split(' ')) < 30:\n",
    "                if sent not in sentence_scores.keys():\n",
    "                    sentence_scores[sent] = word_frequencies[word]\n",
    "                else:\n",
    "                    sentence_scores[sent] += word_frequencies[word]"
   ]
  },
  {
   "cell_type": "code",
   "execution_count": 65,
   "metadata": {},
   "outputs": [
    {
     "name": "stdout",
     "output_type": "stream",
     "text": [
      ". -. Bloody hell. Come on. -Yeah. No. -No. -Hi, Harry. One, two, three. Thank you. Harry. l don't know. Yes, sir. Yeah. Step aside, Wormtail, so l can give our guest a proper greeting. He's back. This way. Yes. -Thanks. -Yes. Harry! Krum! One, two. Go on, Harry. -No, sir. Thank you, master. -Hello, boys. Oh, my God. l couldn't help it. lt's all right. Now, l think, therefore, you have the right to know exactly how he died. He's all right. -lt's just that l. . Headmaster, l, too, find it difficult to believe this mere coincidence. My Lord, had l detected any sign, a whisper of your whereabouts-- There were signs, my slippery friend. No, no, no, l did. Don't worry. But l. . l. . Now, you've waited, you've wondered, and at last the moment has arrived. But, sir, the second task is only hours away, and-- Exactly. Yeah, but, then again, he can take himself. And, Potter, Mr. Potter, over here. Oh, no, no, no. Go. Tell them to wait. .no student under the age of 1 7. . Very well. Eternal glory. Well, you know, l just thought l'd.\n"
     ]
    }
   ],
   "source": [
    "import heapq\n",
    "summary_sentences = heapq.nlargest(50, sentence_scores, key=sentence_scores.get)\n",
    "\n",
    "summary = ' '.join(summary_sentences)\n",
    "print(summary)\n",
    "with open('plot summary', 'w') as file:\n",
    "    file.writelines(summary)"
   ]
  },
  {
   "cell_type": "code",
   "execution_count": null,
   "metadata": {},
   "outputs": [],
   "source": []
  },
  {
   "cell_type": "code",
   "execution_count": null,
   "metadata": {},
   "outputs": [],
   "source": []
  }
 ],
 "metadata": {
  "kernelspec": {
   "display_name": "Python 3",
   "language": "python",
   "name": "python3"
  },
  "language_info": {
   "codemirror_mode": {
    "name": "ipython",
    "version": 3
   },
   "file_extension": ".py",
   "mimetype": "text/x-python",
   "name": "python",
   "nbconvert_exporter": "python",
   "pygments_lexer": "ipython3",
   "version": "3.8.2"
  }
 },
 "nbformat": 4,
 "nbformat_minor": 4
}
