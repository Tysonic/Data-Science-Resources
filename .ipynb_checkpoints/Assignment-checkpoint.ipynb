{
 "cells": [
  {
   "cell_type": "markdown",
   "metadata": {},
   "source": [
    "### Solution to Problem 1"
   ]
  },
  {
   "cell_type": "code",
   "execution_count": 25,
   "metadata": {},
   "outputs": [
    {
     "data": {
      "text/plain": [
       "41791750"
      ]
     },
     "execution_count": 25,
     "metadata": {},
     "output_type": "execute_result"
    }
   ],
   "source": [
    "#Sum_of_Squares\n",
    "Sum_of_Squares=sum([x**2 for x in range(1,501)])\n",
    "Sum_of_Squares"
   ]
  },
  {
   "cell_type": "code",
   "execution_count": 26,
   "metadata": {},
   "outputs": [
    {
     "data": {
      "text/plain": [
       "15687562500"
      ]
     },
     "execution_count": 26,
     "metadata": {},
     "output_type": "execute_result"
    }
   ],
   "source": [
    "#Square_of_Sum\n",
    "Square_of_Sum = (sum([x for x in range(501)]))**2\n",
    "Square_of_Sum"
   ]
  },
  {
   "cell_type": "code",
   "execution_count": 27,
   "metadata": {},
   "outputs": [
    {
     "data": {
      "text/plain": [
       "15645770750"
      ]
     },
     "execution_count": 27,
     "metadata": {},
     "output_type": "execute_result"
    }
   ],
   "source": [
    "#(Square_of_Sum - Sum_of_Squares) \n",
    "Square_of_Sum - Sum_of_Squares"
   ]
  },
  {
   "cell_type": "markdown",
   "metadata": {},
   "source": [
    "### Solution to Problem 2"
   ]
  },
  {
   "cell_type": "code",
   "execution_count": 109,
   "metadata": {},
   "outputs": [
    {
     "name": "stdout",
     "output_type": "stream",
     "text": [
      "the 10001st prime number is :104743\n"
     ]
    }
   ],
   "source": [
    "num = 2\n",
    "prim_position=1\n",
    "    \n",
    "while True:\n",
    "    \n",
    "    for i in range(2,num):  \n",
    "       if (num % i) == 0:  \n",
    "           break\n",
    "    else:\n",
    "        prim_position+=1\n",
    "        \n",
    "    if prim_position>10001:\n",
    "        break\n",
    "    num+=1\n",
    "\n",
    "print(\"the 10001st prime number is :\"+str(num))\n"
   ]
  },
  {
   "cell_type": "markdown",
   "metadata": {},
   "source": [
    "### Solution to problem 3"
   ]
  },
  {
   "cell_type": "code",
   "execution_count": 255,
   "metadata": {},
   "outputs": [
    {
     "name": "stdout",
     "output_type": "stream",
     "text": [
      "2\n",
      "3\n",
      "4\n",
      "5\n",
      "6\n",
      "7\n",
      "8\n",
      "9\n"
     ]
    }
   ],
   "source": [
    "n=2\n",
    "\n",
    "while True:\n",
    "    for i in range(2,n):\n",
    "        if n%1==0:\n",
    "            pass\n",
    "        else:\n",
    "            print(n)\n",
    "    n+=1\n",
    "    if n>10:\n",
    "        break\n",
    "    \n",
    "\n",
    "\n"
   ]
  },
  {
   "cell_type": "markdown",
   "metadata": {},
   "source": [
    "### Solution to probem 4"
   ]
  },
  {
   "cell_type": "code",
   "execution_count": 155,
   "metadata": {},
   "outputs": [
    {
     "name": "stdout",
     "output_type": "stream",
     "text": [
      "user 0 has 2 connections [(0, 1), (0, 2)]\n",
      "user 1 has 3 connections [(0, 1), (1, 2), (1, 3)]\n",
      "user 2 has 3 connections [(0, 2), (1, 2), (2, 3)]\n",
      "user 3 has 3 connections [(1, 3), (2, 3), (3, 4)]\n",
      "user 4 has 2 connections [(3, 4), (4, 5)]\n",
      "user 5 has 3 connections [(4, 5), (5, 6), (5, 7)]\n",
      "user 6 has 2 connections [(5, 6), (6, 8)]\n",
      "user 7 has 2 connections [(5, 7), (7, 8)]\n",
      "user 8 has 3 connections [(6, 8), (7, 8), (8, 9)]\n",
      "user 9 has 1 connection [(8, 9)]\n"
     ]
    }
   ],
   "source": [
    "users = [{'id': 0, 'name': 'Hero'}, {'id': 1, 'name': 'Dunn'}, {'id': 2, 'name':'Sue'}, {'id': 3, 'name':\n",
    "'Chi'}, {'id': 4, 'name': 'Thor'}, {'id': 5, 'name': 'Clive'}, {'id': 6, 'name': 'Hicks'}, {'id': 7, 'name':\n",
    "'Devin'}, {'id': 8, 'name': 'Kate'}, {'id': 9, 'name': 'Klein'}]\n",
    "friendships = [(0, 1), (0, 2), (1, 2), (1, 3), (2, 3), (3, 4), (4, 5), (5, 6), (5, 7), (6, 8), (7, 8), (8, 9)]\n",
    "\n",
    "ids= [x['id'] for x in users]\n",
    "\n",
    "\n",
    "User_connection_details={}\n",
    "for val in ids:\n",
    "    connections=[]\n",
    "    con = 0\n",
    "    User_connection_details[val]=connections\n",
    "    for y in friendships:\n",
    "        if val in y:\n",
    "            con+=1\n",
    "            connections.append(y)\n",
    "\n",
    "User_connection_details\n",
    "for key in User_connection_details.keys():\n",
    "    if len(User_connection_details[key])==1:\n",
    "        print(\"user \"+str(key)+\" has \" +str(len(User_connection_details[key]))+\" connection \" +str(User_connection_details[key])) \n",
    "    else:\n",
    "        print(\"user \"+str(key)+\" has \" +str(len(User_connection_details[key]))+\" connections \" +str(User_connection_details[key])) \n"
   ]
  },
  {
   "cell_type": "markdown",
   "metadata": {},
   "source": [
    "### Solution to problem 5"
   ]
  },
  {
   "cell_type": "code",
   "execution_count": 229,
   "metadata": {},
   "outputs": [],
   "source": [
    "tuplesList = [('Worker_1','Boss_1'), ('Worker_2','Boss_2'), ('Boss_1','Exec_1'),\n",
    " ('Boss_2','Exec_2'), ('Exec_1','Director_1'), ('Exec_2','Director_2'),\n",
    " ('Director_1', 'CEO'), ('Director_2', 'CEO'), ('CEO', None)]\n",
    "\n",
    "\n",
    "command = {}\n",
    "command_chain ={}\n",
    "for chain in tuplesList:\n",
    "    command[chain[0]]=chain[1]\n",
    "for key in command:\n",
    "    if command[key] in command.keys():\n",
    "        command_chain[key]=[command[key]]\n",
    "        command_chain[key].append(command[command[key]])\n",
    "        if command[command[key]]==None:\n",
    "            pass\n",
    "        else:\n",
    "            command_chain[key].append(command[command[command[key]]])\n",
    "            if command[command[command[key]]]==None:\n",
    "                pass\n",
    "            else:\n",
    "                command_chain[key].append(command[command[command[command[key]]]])\n",
    "                \n",
    "for vals in command_chain:\n",
    "    if command_chain[vals][-1]==None:\n",
    "        del(command_chain[vals][-1])\n",
    "\n",
    "def chain_of_command(emp1,emp2):\n",
    "    for chains in command_chain[emp1]:\n",
    "        if chains==emp2:\n",
    "            return True\n",
    "    return False\n",
    "            "
   ]
  },
  {
   "cell_type": "code",
   "execution_count": 230,
   "metadata": {},
   "outputs": [
    {
     "data": {
      "text/plain": [
       "True"
      ]
     },
     "execution_count": 230,
     "metadata": {},
     "output_type": "execute_result"
    }
   ],
   "source": [
    "chain_of_command('Worker_1', 'CEO')"
   ]
  },
  {
   "cell_type": "code",
   "execution_count": null,
   "metadata": {},
   "outputs": [],
   "source": []
  }
 ],
 "metadata": {
  "kernelspec": {
   "display_name": "Python 3",
   "language": "python",
   "name": "python3"
  },
  "language_info": {
   "codemirror_mode": {
    "name": "ipython",
    "version": 3
   },
   "file_extension": ".py",
   "mimetype": "text/x-python",
   "name": "python",
   "nbconvert_exporter": "python",
   "pygments_lexer": "ipython3",
   "version": "3.8.3"
  }
 },
 "nbformat": 4,
 "nbformat_minor": 4
}
